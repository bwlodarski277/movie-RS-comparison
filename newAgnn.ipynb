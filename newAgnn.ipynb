{
 "cells": [
  {
   "cell_type": "code",
   "execution_count": 5,
   "metadata": {},
   "outputs": [
    {
     "output_type": "stream",
     "name": "stdout",
     "text": [
      "TensorFlow version 2.4.1\n"
     ]
    }
   ],
   "source": [
    "import numpy as np\n",
    "import tensorflow as tf\n",
    "from tensorflow import keras\n",
    "\n",
    "print('TensorFlow version', tf.__version__)"
   ]
  },
  {
   "cell_type": "code",
   "execution_count": 4,
   "metadata": {},
   "outputs": [
    {
     "data": {
      "text/html": "<div>\n<style scoped>\n    .dataframe tbody tr th:only-of-type {\n        vertical-align: middle;\n    }\n\n    .dataframe tbody tr th {\n        vertical-align: top;\n    }\n\n    .dataframe thead th {\n        text-align: right;\n    }\n</style>\n<table border=\"1\" class=\"dataframe\">\n  <thead>\n    <tr style=\"text-align: right;\">\n      <th></th>\n      <th>userId</th>\n      <th>movieId</th>\n      <th>rating</th>\n      <th>timestamp</th>\n    </tr>\n  </thead>\n  <tbody>\n    <tr>\n      <th>0</th>\n      <td>1</td>\n      <td>1</td>\n      <td>4.0</td>\n      <td>964982703</td>\n    </tr>\n    <tr>\n      <th>1</th>\n      <td>1</td>\n      <td>3</td>\n      <td>4.0</td>\n      <td>964981247</td>\n    </tr>\n    <tr>\n      <th>2</th>\n      <td>1</td>\n      <td>6</td>\n      <td>4.0</td>\n      <td>964982224</td>\n    </tr>\n    <tr>\n      <th>3</th>\n      <td>1</td>\n      <td>47</td>\n      <td>5.0</td>\n      <td>964983815</td>\n    </tr>\n    <tr>\n      <th>4</th>\n      <td>1</td>\n      <td>50</td>\n      <td>5.0</td>\n      <td>964982931</td>\n    </tr>\n  </tbody>\n</table>\n</div>",
      "text/plain": "   userId  movieId  rating  timestamp\n0       1        1     4.0  964982703\n1       1        3     4.0  964981247\n2       1        6     4.0  964982224\n3       1       47     5.0  964983815\n4       1       50     5.0  964982931"
     },
     "execution_count": 4,
     "metadata": {},
     "output_type": "execute_result"
    }
   ],
   "source": [
    "import pandas as pd\n",
    "\n",
    "df = pd.read_csv('data/ratings.csv')\n",
    "df.head()"
   ]
  },
  {
   "cell_type": "code",
   "execution_count": 5,
   "metadata": {},
   "outputs": [],
   "source": [
    "# Encoding user IDs and movie IDs\n",
    "# This is necessary so that the neural network does not infer anything from the IDs\n",
    "\n",
    "from sklearn.preprocessing import LabelEncoder\n",
    "\n",
    "\n",
    "class Encoder:\n",
    "    \"\"\"Simple class to go between \"\"\"\n",
    "\n",
    "    def __init__(self, original):\n",
    "        encoder = LabelEncoder()\n",
    "        encoded = encoder.fit_transform(original)\n",
    "        self.original2encoded = {original: encoded for original, encoded in zip(original, encoded)}\n",
    "        self.encoded2original = {encoded: original for original, encoded in zip(original, encoded)}\n",
    "\n",
    "    def original(self, encoded):\n",
    "        return self.encoded2original[encoded]\n",
    "\n",
    "    def encoded(self, original):\n",
    "        return self.original2encoded[original]\n",
    "\n",
    "\n",
    "userIdMapping = Encoder(df.userId.unique())\n",
    "movieIdMapping = Encoder(df.movieId.unique())\n",
    "\n",
    "df.userId = df.userId.map(userIdMapping.original2encoded)\n",
    "df.movieId = df.movieId.map(movieIdMapping.original2encoded)"
   ]
  },
  {
   "cell_type": "code",
   "execution_count": 6,
   "metadata": {},
   "outputs": [
    {
     "data": {
      "text/html": "<div>\n<style scoped>\n    .dataframe tbody tr th:only-of-type {\n        vertical-align: middle;\n    }\n\n    .dataframe tbody tr th {\n        vertical-align: top;\n    }\n\n    .dataframe thead th {\n        text-align: right;\n    }\n</style>\n<table border=\"1\" class=\"dataframe\">\n  <thead>\n    <tr style=\"text-align: right;\">\n      <th></th>\n      <th>userId</th>\n      <th>movieId</th>\n    </tr>\n  </thead>\n  <tbody>\n    <tr>\n      <th>67037</th>\n      <td>431</td>\n      <td>7316</td>\n    </tr>\n    <tr>\n      <th>42175</th>\n      <td>287</td>\n      <td>412</td>\n    </tr>\n    <tr>\n      <th>93850</th>\n      <td>598</td>\n      <td>3217</td>\n    </tr>\n    <tr>\n      <th>6187</th>\n      <td>41</td>\n      <td>2248</td>\n    </tr>\n    <tr>\n      <th>12229</th>\n      <td>74</td>\n      <td>1210</td>\n    </tr>\n    <tr>\n      <th>...</th>\n      <td>...</td>\n      <td>...</td>\n    </tr>\n    <tr>\n      <th>33213</th>\n      <td>225</td>\n      <td>1403</td>\n    </tr>\n    <tr>\n      <th>75004</th>\n      <td>473</td>\n      <td>5428</td>\n    </tr>\n    <tr>\n      <th>58134</th>\n      <td>380</td>\n      <td>472</td>\n    </tr>\n    <tr>\n      <th>33261</th>\n      <td>225</td>\n      <td>1830</td>\n    </tr>\n    <tr>\n      <th>63946</th>\n      <td>413</td>\n      <td>3856</td>\n    </tr>\n  </tbody>\n</table>\n<p>30251 rows × 2 columns</p>\n</div>",
      "text/plain": "       userId  movieId\n67037     431     7316\n42175     287      412\n93850     598     3217\n6187       41     2248\n12229      74     1210\n...       ...      ...\n33213     225     1403\n75004     473     5428\n58134     380      472\n33261     225     1830\n63946     413     3856\n\n[30251 rows x 2 columns]"
     },
     "execution_count": 6,
     "metadata": {},
     "output_type": "execute_result"
    }
   ],
   "source": [
    "# Splitting to training and testing data\n",
    "\n",
    "from sklearn.model_selection import train_test_split\n",
    "\n",
    "X = df[['userId', 'movieId']]\n",
    "y = df['rating']\n",
    "\n",
    "# Splitting the data, ensuring 30% is used for testing.\n",
    "# The data is shuffled to make sure the neural network does not infer anything from the order.\n",
    "# The random state is also set to 42 so that the results are consistent.\n",
    "X_train, X_test, y_train, y_test = train_test_split(X, y, test_size=0.3, shuffle=True, random_state=42)\n",
    "\n",
    "X_test"
   ]
  },
  {
   "cell_type": "code",
   "execution_count": null,
   "metadata": {},
   "outputs": [],
   "source": [
    "class Recommender(keras.Model):\n",
    "    def __init__(self, n_users, n_movies):\n",
    "        super(Recommender, self).__init__()\n",
    "        # Rule of thumb: 4th root of input for output\n",
    "        self.users = keras.layers.Embedding(input_dim=n_users, output_dim=n_users**(1/4))\n",
    "        self.movies = keras.layers.Embedding(input_dim=n_movies, output_dim=n_movies**(1/4))\n"
   ]
  },
  {
   "cell_type": "code",
   "execution_count": null,
   "metadata": {},
   "outputs": [],
   "source": [
    "from tensorflow.keras.layers import Input, Embedding, Dense, Concatenate\n",
    "\n",
    "def createModel(data, userEmbedding, movieEmbedding, hiddenLayers = []):\n",
    "    # Using average between number of movies and output layer as default hidden layer\n",
    "    hiddenLayers = [(data['movieId'] + 1) / 2] if not hiddenLayers else hiddenLayers\n",
    "\n",
    "    userInput = Input(shape=(1,))\n",
    "    movieInput = Input(shape=(1,))\n",
    "\n",
    "    numUsers = data['userId'].nunique()\n",
    "    numMovies = data['movieId'].nunique()\n",
    "\n",
    "    userEmbedding = Embedding(input_dim=)"
   ]
  }
 ],
 "metadata": {
  "kernelspec": {
   "name": "python391jvsc74a57bd04cbc15311c34032acc8e11a84b96aa137c1826301d293cf0911b885269d3a740",
   "display_name": "Python 3.9.1 64-bit ('comparison': conda)"
  },
  "language_info": {
   "codemirror_mode": {
    "name": "ipython",
    "version": 3
   },
   "file_extension": ".py",
   "mimetype": "text/x-python",
   "name": "python",
   "nbconvert_exporter": "python",
   "pygments_lexer": "ipython3",
   "version": "3.9.1"
  },
  "orig_nbformat": 2
 },
 "nbformat": 4,
 "nbformat_minor": 2
}